{
  "nbformat": 4,
  "nbformat_minor": 0,
  "metadata": {
    "colab": {
      "private_outputs": true,
      "provenance": []
    },
    "kernelspec": {
      "name": "python3",
      "display_name": "Python 3"
    },
    "language_info": {
      "name": "python"
    }
  },
  "cells": [
    {
      "cell_type": "code",
      "source": [
        "import pandas as pd\n",
        "import matplotlib.pyplot as plt\n",
        "import seaborn as sns"
      ],
      "metadata": {
        "id": "eFuUQA7ZPwiU"
      },
      "execution_count": null,
      "outputs": []
    },
    {
      "cell_type": "code",
      "execution_count": null,
      "metadata": {
        "id": "DqikdFtiPoZf"
      },
      "outputs": [],
      "source": [
        "df = pd.read_csv('/content/sample_data/IRIS.csv');\n",
        "df"
      ]
    },
    {
      "cell_type": "code",
      "source": [
        "df.head()"
      ],
      "metadata": {
        "id": "ce591dpmWs0U"
      },
      "execution_count": null,
      "outputs": []
    },
    {
      "cell_type": "code",
      "source": [
        "df.tail()"
      ],
      "metadata": {
        "id": "ABmQVW3pW3wQ"
      },
      "execution_count": null,
      "outputs": []
    },
    {
      "cell_type": "code",
      "source": [
        "df.info()"
      ],
      "metadata": {
        "id": "4pPqWI5oW0Ly"
      },
      "execution_count": null,
      "outputs": []
    },
    {
      "cell_type": "code",
      "source": [
        "df.describe()"
      ],
      "metadata": {
        "id": "fXdDj0L4W6EC"
      },
      "execution_count": null,
      "outputs": []
    },
    {
      "cell_type": "code",
      "source": [
        "df.columns"
      ],
      "metadata": {
        "id": "ns--8UtlW8jh"
      },
      "execution_count": null,
      "outputs": []
    },
    {
      "cell_type": "code",
      "source": [
        "df.isnull().sum()"
      ],
      "metadata": {
        "id": "yH2uGTZpXAWK"
      },
      "execution_count": null,
      "outputs": []
    },
    {
      "cell_type": "code",
      "source": [
        "df.rename(columns={\"sepal_length\": \"Sepal Length\", \"sepal_width\": \"Sepal Width\", \"petal_length\": \"Petal Length\", \"petal_width\": \"Petal Width\"}, inplace=True)\n",
        "df"
      ],
      "metadata": {
        "id": "SntTEcNNXCtC"
      },
      "execution_count": null,
      "outputs": []
    },
    {
      "cell_type": "code",
      "source": [
        "df.dropna()"
      ],
      "metadata": {
        "id": "m-PClnf-XWhG"
      },
      "execution_count": null,
      "outputs": []
    },
    {
      "cell_type": "code",
      "source": [
        "df.fillna(0)"
      ],
      "metadata": {
        "id": "uhF9mjJHXeag"
      },
      "execution_count": null,
      "outputs": []
    },
    {
      "cell_type": "code",
      "source": [
        "unique_values = df['species'].unique()\n",
        "unique_values"
      ],
      "metadata": {
        "id": "kYNS-dnrXmUr"
      },
      "execution_count": null,
      "outputs": []
    },
    {
      "cell_type": "code",
      "source": [
        "df['species'] = df['species'].replace(['Iris-setosa'], 'IRIS SETOSA')\n",
        "df"
      ],
      "metadata": {
        "id": "cuCQPHQ9XrGU"
      },
      "execution_count": null,
      "outputs": []
    },
    {
      "cell_type": "code",
      "source": [
        "print(df.duplicated().sum())\n",
        "print(df.drop_duplicates())"
      ],
      "metadata": {
        "id": "aOz5MFmmX_ju"
      },
      "execution_count": null,
      "outputs": []
    },
    {
      "cell_type": "code",
      "source": [
        "df.shape"
      ],
      "metadata": {
        "id": "fwBkKXSYZT08"
      },
      "execution_count": null,
      "outputs": []
    },
    {
      "cell_type": "code",
      "source": [
        "value_column = 'Sepal Length'\n",
        "\n",
        "outliers = df[(df[value_column] < df[value_column].mean() - 4 * df[value_column].std()) |\n",
        "              (df[value_column] > df[value_column].mean() + 4 * df[value_column].std())]\n",
        "\n",
        "print(\"Outliers:\\n\")\n",
        "outliers"
      ],
      "metadata": {
        "id": "8S31eba9YWPp"
      },
      "execution_count": null,
      "outputs": []
    },
    {
      "cell_type": "code",
      "source": [
        "df.plot(x=\"species\", y=\"Petal Width\")"
      ],
      "metadata": {
        "id": "dE8dCAVZZQ3z"
      },
      "execution_count": null,
      "outputs": []
    },
    {
      "cell_type": "code",
      "source": [
        "df.plot(x=\"species\", y=[\"Sepal Width\", \"Petal Width\", \"Sepal Length\", \"Petal Length\"], )"
      ],
      "metadata": {
        "id": "0VtTlLXwa0St"
      },
      "execution_count": null,
      "outputs": []
    },
    {
      "cell_type": "code",
      "source": [
        "df.plot.bar(x=\"species\", y=[\"Sepal Width\", \"Petal Width\", \"Sepal Length\", \"Petal Length\"], )"
      ],
      "metadata": {
        "id": "Lf1Q3RugaWtv"
      },
      "execution_count": null,
      "outputs": []
    },
    {
      "cell_type": "code",
      "source": [
        "df.plot.barh(x=\"species\", y=[\"Sepal Width\", \"Petal Width\", \"Sepal Length\", \"Petal Length\"], )"
      ],
      "metadata": {
        "id": "b2S57gzibDoT"
      },
      "execution_count": null,
      "outputs": []
    },
    {
      "cell_type": "code",
      "source": [
        "df.plot.scatter(x=\"species\", y=\"Sepal Width\")"
      ],
      "metadata": {
        "id": "-577jCLpbGtb"
      },
      "execution_count": null,
      "outputs": []
    },
    {
      "cell_type": "code",
      "source": [
        "df.plot(x=\"species\", y=[\"Sepal Width\", \"Petal Width\", \"Sepal Length\", \"Petal Length\"], marker=\"s\", linestyle=\"-.\")"
      ],
      "metadata": {
        "id": "PSke4Gexbbco"
      },
      "execution_count": null,
      "outputs": []
    },
    {
      "cell_type": "code",
      "source": [
        "df.plot(x=\"species\", y=[\"Sepal Width\", \"Petal Width\", \"Sepal Length\", \"Petal Length\"], layout = (4,3), subplots = True)"
      ],
      "metadata": {
        "id": "g0X6JP9KbmrY"
      },
      "execution_count": null,
      "outputs": []
    },
    {
      "cell_type": "code",
      "source": [
        "sns.pairplot(df)"
      ],
      "metadata": {
        "id": "pNwpsuCVbuLq"
      },
      "execution_count": null,
      "outputs": []
    },
    {
      "cell_type": "code",
      "source": [
        "df.species.value_counts(normalize = True)"
      ],
      "metadata": {
        "id": "Fxte4h5LPuxN"
      },
      "execution_count": null,
      "outputs": []
    },
    {
      "cell_type": "code",
      "source": [
        "sns.countplot(x = 'species', data = df)\n",
        "plt.xlabel('Species')\n",
        "plt.ylabel('Count')\n",
        "plt.title('Distribution of Iris Species')\n",
        "plt.show()"
      ],
      "metadata": {
        "id": "SMFoC2RXQJjE"
      },
      "execution_count": null,
      "outputs": []
    },
    {
      "cell_type": "code",
      "source": [
        "sns.boxplot(x = 'species', y = 'sepal_length', data = df)\n",
        "plt.xlabel('Species')\n",
        "plt.ylabel('Sepal Length')\n",
        "plt.title('Box plot of Sepal Length')\n",
        "plt.show()"
      ],
      "metadata": {
        "id": "SbXjVCqIRncs"
      },
      "execution_count": null,
      "outputs": []
    },
    {
      "cell_type": "code",
      "source": [
        "sns.pairplot(df, hue='species', palette = \"tab20b\")\n",
        "plt.title('Pair plot of iris dataset')\n",
        "plt.show()"
      ],
      "metadata": {
        "id": "vx_MF8pRSF38"
      },
      "execution_count": null,
      "outputs": []
    },
    {
      "cell_type": "code",
      "source": [
        "correlationMatrix = df.corr()\n",
        "sns.heatmap(correlationMatrix, annot = True, cmap = 'Pastel1')\n",
        "plt.title(\"Correlation Matrix of Iris Dataset\")\n",
        "plt.show()"
      ],
      "metadata": {
        "id": "dnEOrH5wTuPs"
      },
      "execution_count": null,
      "outputs": []
    },
    {
      "cell_type": "code",
      "source": [
        "df.columns"
      ],
      "metadata": {
        "id": "SdYvkzzHUxjn"
      },
      "execution_count": null,
      "outputs": []
    },
    {
      "cell_type": "code",
      "source": [
        "plt.figure(figsize = (20,5))\n",
        "sns.countplot(x = 'sepal_length', data=df)\n",
        "plt.xlabel('Sepal Length')\n",
        "plt.ylabel('Count')\n",
        "plt.title('Distribution of Sepal Length')\n",
        "plt.show()\n",
        "\n",
        "plt.figure(figsize = (20,5))\n",
        "sns.countplot(x = 'sepal_width', data=df)\n",
        "plt.xlabel('Sepal Width')\n",
        "plt.ylabel('Count')\n",
        "plt.title('Distribution of Sepal Width')\n",
        "plt.show()\n",
        "\n",
        "plt.figure(figsize = (20,5))\n",
        "sns.countplot(x = 'petal_length', data=df)\n",
        "plt.xlabel('Petal Length')\n",
        "plt.ylabel('Count')\n",
        "plt.title('Distribution of Petal Length')\n",
        "plt.show()\n",
        "\n",
        "plt.figure(figsize = (20,5))\n",
        "sns.countplot(x = 'petal_width', data=df)\n",
        "plt.xlabel('Petal Width')\n",
        "plt.ylabel('Count')\n",
        "plt.title('Distribution of Petal Width')\n",
        "plt.show()"
      ],
      "metadata": {
        "id": "6w6HZ29zUzfW"
      },
      "execution_count": null,
      "outputs": []
    }
  ]
}